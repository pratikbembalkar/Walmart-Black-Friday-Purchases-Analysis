{
  "nbformat": 4,
  "nbformat_minor": 0,
  "metadata": {
    "colab": {
      "provenance": []
    },
    "kernelspec": {
      "name": "python3",
      "display_name": "Python 3"
    },
    "language_info": {
      "name": "python"
    }
  },
  "cells": [
    {
      "cell_type": "code",
      "source": [
        "from google.colab import drive\n",
        "\n",
        "# Mount Google Drive\n",
        "drive.mount('/content/drive')"
      ],
      "metadata": {
        "id": "qOLJ8Pni_Z65"
      },
      "execution_count": null,
      "outputs": []
    },
    {
      "cell_type": "code",
      "source": [
        "import pandas as pd\n",
        "df = pd.read_csv('/content/drive/MyDrive/walmart_data.csv')\n",
        "\n",
        "df"
      ],
      "metadata": {
        "id": "m6D9syS7_rbS"
      },
      "execution_count": null,
      "outputs": []
    },
    {
      "cell_type": "markdown",
      "source": [
        "# **Black Friday Purchases**"
      ],
      "metadata": {
        "id": "6LhAKiDFAM7i"
      }
    },
    {
      "cell_type": "markdown",
      "source": [
        "**Objective** : This notebook aims to analyze the customer purchase behaviour (specifically, purchase amount) against the customer’s gender and the various other factors to help the business make better decisions. The Management team at Walmart Inc. wants to understand if the spending habits differ between male and female customers:\n",
        "\n",
        "Do women spend more on Black Friday than men?"
      ],
      "metadata": {
        "id": "2Prz7hv5AYKT"
      }
    },
    {
      "cell_type": "markdown",
      "source": [
        "# Exploratory Data Analysis"
      ],
      "metadata": {
        "id": "1q35sce1A4pB"
      }
    },
    {
      "cell_type": "code",
      "source": [
        "import numpy as np\n",
        "import pandas as pd\n",
        "import matplotlib.pyplot as plt\n",
        "%matplotlib inline\n",
        "import seaborn as sns\n",
        "sns.set(color_codes = True)\n",
        "import scipy.stats as stats\n",
        "from scipy.stats import norm\n",
        "import warnings\n",
        "warnings.filterwarnings(\"ignore\")"
      ],
      "metadata": {
        "id": "V10QPjJrATfD"
      },
      "execution_count": null,
      "outputs": []
    },
    {
      "cell_type": "code",
      "source": [
        "import pandas as pd\n",
        "walmart_df = pd.read_csv('/content/drive/MyDrive/walmart_data.csv')\n",
        "\n",
        "walmart_df"
      ],
      "metadata": {
        "id": "JqBH1fnDBK6G"
      },
      "execution_count": null,
      "outputs": []
    },
    {
      "cell_type": "markdown",
      "source": [
        "# Data Overview"
      ],
      "metadata": {
        "id": "HkQy7ajKBkKT"
      }
    },
    {
      "cell_type": "code",
      "source": [
        "walmart_df.head()"
      ],
      "metadata": {
        "id": "q3CBoOe-BfjR"
      },
      "execution_count": null,
      "outputs": []
    },
    {
      "cell_type": "code",
      "source": [
        "walmart_df.tail()"
      ],
      "metadata": {
        "id": "xBgdm2arB_GX"
      },
      "execution_count": null,
      "outputs": []
    },
    {
      "cell_type": "code",
      "source": [
        "# Shape of the dataframe\n",
        "walmart_df.shape"
      ],
      "metadata": {
        "id": "AuJ_IB3HCus7"
      },
      "execution_count": null,
      "outputs": []
    },
    {
      "cell_type": "code",
      "source": [
        "# Name of each column in dataframe\n",
        "walmart_df.columns"
      ],
      "metadata": {
        "id": "CAOrQ4qFDKjT"
      },
      "execution_count": null,
      "outputs": []
    },
    {
      "cell_type": "code",
      "source": [
        "# Datatype of each column in dataframe\n",
        "walmart_df.dtypes"
      ],
      "metadata": {
        "id": "OEIBZ2ETDM_s"
      },
      "execution_count": null,
      "outputs": []
    },
    {
      "cell_type": "markdown",
      "source": [
        "# Finding Unique Values and Count Them"
      ],
      "metadata": {
        "id": "jlinEitXDc21"
      }
    },
    {
      "cell_type": "code",
      "source": [
        "def print_unique_values(df):\n",
        "    for column in df.columns:\n",
        "        unique_values = df[column].unique()\n",
        "        print(f\"\\nUnique Values of {column}: \", unique_values)\n",
        "\n",
        "# Example usage\n",
        "print_unique_values(walmart_df)\n"
      ],
      "metadata": {
        "id": "jjZRIYNYDWmA"
      },
      "execution_count": null,
      "outputs": []
    },
    {
      "cell_type": "code",
      "source": [
        "def print_nunique_values(df):\n",
        "    for column in df.columns:\n",
        "        unique_values = df[column].nunique()\n",
        "        print(f\"\\nUnique Values of {column}: \", unique_values)\n",
        "\n",
        "# Example usage\n",
        "print_nunique_values(walmart_df)"
      ],
      "metadata": {
        "id": "QWuAowyzFyTu"
      },
      "execution_count": null,
      "outputs": []
    },
    {
      "cell_type": "markdown",
      "source": [
        "# Data Cleaning"
      ],
      "metadata": {
        "id": "CyGkgPXqM-6t"
      }
    },
    {
      "cell_type": "code",
      "source": [
        "walmart_df.Stay_In_Current_City_Years.unique()"
      ],
      "metadata": {
        "id": "qvg5Zeo2M60G"
      },
      "execution_count": null,
      "outputs": []
    },
    {
      "cell_type": "code",
      "source": [
        "# Removing \"+\" symbol\n",
        "walmart_df.Stay_In_Current_City_Years=walmart_df.Stay_In_Current_City_Years.str.replace(\"+\",\"\")"
      ],
      "metadata": {
        "id": "TQO5KIiENUI6"
      },
      "execution_count": null,
      "outputs": []
    },
    {
      "cell_type": "code",
      "source": [
        "walmart_df.Stay_In_Current_City_Years.unique()"
      ],
      "metadata": {
        "id": "dWnnbMsSNXkU"
      },
      "execution_count": null,
      "outputs": []
    },
    {
      "cell_type": "code",
      "source": [
        "walmart_df['Stay_In_Current_City_Years'] = pd.to_numeric(walmart_df['Stay_In_Current_City_Years'])"
      ],
      "metadata": {
        "id": "cFSg4DQGNpMv"
      },
      "execution_count": null,
      "outputs": []
    },
    {
      "cell_type": "markdown",
      "source": [
        "# Statistical Summary"
      ],
      "metadata": {
        "id": "F66ENsAEN6d5"
      }
    },
    {
      "cell_type": "code",
      "source": [
        "walmart_df.select_dtypes(include=['int64']).skew()"
      ],
      "metadata": {
        "id": "BMe6wGhNOKGQ"
      },
      "execution_count": null,
      "outputs": []
    },
    {
      "cell_type": "code",
      "source": [
        "walmart_df.describe(include = 'all')"
      ],
      "metadata": {
        "id": "maaKUO4tNsYt"
      },
      "execution_count": null,
      "outputs": []
    },
    {
      "cell_type": "markdown",
      "source": [
        "Some key observations from the analysis. This could include things like which age group buys the most, which city has the most sales, etc."
      ],
      "metadata": {
        "id": "Y93VGASNOUQL"
      }
    },
    {
      "cell_type": "markdown",
      "source": [
        "Observations from Analysis\n",
        "There are no missing values in the data.\n",
        "\n",
        "Customers with age group of 26-35 have done more purchases (2,19,587) compared with others\n",
        "\n",
        "Customers in City_Category of B have done more purchases (2,31,173) compared with other City_Category\n",
        "Out of 5,50,000 data point. 4,14,259's gender is Male and rest are the Female.\n",
        "Customer with Minimum amount of Purchase is 12 $\n",
        "\n",
        "Customer with Maximum amount of Purchase is 23961 $\n",
        "\n",
        "Purchase might have outliers"
      ],
      "metadata": {
        "id": "FhNVGQhYObre"
      }
    },
    {
      "cell_type": "markdown",
      "source": [
        "# Missing Value Detection"
      ],
      "metadata": {
        "id": "5SwDFhmSOlQx"
      }
    },
    {
      "cell_type": "code",
      "source": [
        "# Missing value detection\n",
        "walmart_df.isna().sum()"
      ],
      "metadata": {
        "id": "a3OxSXeJOOk_"
      },
      "execution_count": null,
      "outputs": []
    },
    {
      "cell_type": "markdown",
      "source": [
        "# Duplicate Value Detection"
      ],
      "metadata": {
        "id": "I1cZ_upEO1M2"
      }
    },
    {
      "cell_type": "code",
      "source": [
        "# Checking duplicate values in the data set\n",
        "walmart_df.duplicated(subset=None,keep='first').sum() # No duplicate values in the data set"
      ],
      "metadata": {
        "id": "150jApFFOxW2"
      },
      "execution_count": null,
      "outputs": []
    },
    {
      "cell_type": "markdown",
      "source": [
        "# Data Visualization"
      ],
      "metadata": {
        "id": "xQq_Pke9PEd5"
      }
    },
    {
      "cell_type": "code",
      "source": [
        "walmart_df.info()"
      ],
      "metadata": {
        "id": "LGx45-mRO_f_"
      },
      "execution_count": null,
      "outputs": []
    },
    {
      "cell_type": "markdown",
      "source": [
        "# Data Visualization with Numerical Features"
      ],
      "metadata": {
        "id": "XFfCpScZPQSj"
      }
    },
    {
      "cell_type": "code",
      "source": [
        "[col for col in walmart_df.select_dtypes(include=['int64']).columns]"
      ],
      "metadata": {
        "id": "L0y816B0PNVE"
      },
      "execution_count": null,
      "outputs": []
    },
    {
      "cell_type": "code",
      "source": [
        "import seaborn as sns\n",
        "import matplotlib.pyplot as plt\n",
        "from scipy.stats import norm\n",
        "\n",
        "# Create a 2x2 grid of subplots\n",
        "fig, axis = plt.subplots(nrows=2, ncols=2, figsize=(12, 10))\n",
        "fig.subplots_adjust(top=0.9)  # Adjust the top spacing of the subplots\n",
        "\n",
        "# Plot distribution plots for each specified column\n",
        "sns.distplot(walmart_df['Occupation'], kde=True, ax=axis[0,0], color=\"#900000\")\n",
        "sns.distplot(walmart_df['Stay_In_Current_City_Years'].astype(int), kde=True, ax=axis[0,1], color=\"#900000\")\n",
        "sns.distplot(walmart_df['Marital_Status'], kde=True, ax=axis[1,0], color=\"#900000\")\n",
        "\n",
        "# Plotting a distribution plot for the 'Purchase' variable with normal curve fit\n",
        "sns.distplot(walmart_df['Purchase'], ax=axis[1,1], color=\"#900000\", fit=norm)\n",
        "\n",
        "# Fitting the target variable to the normal curve\n",
        "mu, sigma = norm.fit(walmart_df['Purchase'])\n",
        "print(\"The mu (mean) is {} and sigma (standard deviation) is {} for the curve\".format(mu, sigma))\n",
        "\n",
        "# Adding a legend for the 'Purchase' distribution plot\n",
        "axis[1,1].legend(['Normal Distribution (μ = {:.2f}, σ = {:.2f})'.format(mu, sigma)], loc='best')\n",
        "\n",
        "# Show the plots\n",
        "plt.show()"
      ],
      "metadata": {
        "id": "yZYWx6SwPbC1"
      },
      "execution_count": null,
      "outputs": []
    },
    {
      "cell_type": "code",
      "source": [
        "import plotly.graph_objects as go\n",
        "from plotly.subplots import make_subplots\n",
        "\n",
        "# Create subplots\n",
        "fig = make_subplots(\n",
        "    rows=4, cols=2,\n",
        "    subplot_titles=(\"Gender\", \"Age\", \"Occupation\", \"City Category\",\n",
        "                    \"Stay In Current City Years\", \"Marital Status\", \"Product Category\", \"Purchase\")\n",
        ")\n",
        "\n",
        "# Add histograms for each subplot\n",
        "fig.add_trace(go.Histogram(x=walmart_df['Gender']), row=1, col=1)\n",
        "fig.add_trace(go.Histogram(x=walmart_df['Age']), row=1, col=2)\n",
        "fig.add_trace(go.Histogram(x=walmart_df['Occupation']), row=2, col=1)\n",
        "fig.add_trace(go.Histogram(x=walmart_df['City_Category']), row=2, col=2)\n",
        "fig.add_trace(go.Histogram(x=walmart_df['Stay_In_Current_City_Years']), row=3, col=1)\n",
        "fig.add_trace(go.Histogram(x=walmart_df['Marital_Status']), row=3, col=2)\n",
        "fig.add_trace(go.Histogram(x=walmart_df['Product_Category']), row=4, col=1)\n",
        "fig.add_trace(go.Histogram(x=walmart_df['Purchase']), row=4, col=2)\n",
        "\n",
        "# Update layout if needed\n",
        "fig.update_layout(height=1200, width=1000, title_text=\"Count Plots\")\n",
        "fig.update_layout(showlegend=False)  # Hide the legend if not needed\n",
        "\n",
        "# Show the figure\n",
        "fig.show()\n"
      ],
      "metadata": {
        "id": "qWn6OGhYPkad"
      },
      "execution_count": null,
      "outputs": []
    },
    {
      "cell_type": "markdown",
      "source": [
        "Observations:\n",
        "\n",
        "Many buyers are male while the minority are female. Difference is due to the categories on sale during Black Friday, evaluating a particular category may change the count between genders.\n",
        "\n",
        "There are 7 categories defined to classify the age of the buyers\n",
        "\n",
        "Majority of the buyers are single\n",
        "\n",
        "Display of the occupation of the buyers. Occupation 8 has extremely low count compared with the others; it can be ignored for the calculation since it won't affect much the result.\n",
        "\n",
        "Majority of the products are in category 1, 5 and 8. The low number categories can be combined into a single category to greatly reduce the complexity of the problem.\n",
        "\n",
        "Higher count might represent the urban area indicates more population in City_Category.\n",
        "\n",
        "Most buyers have one year living in the city. Remaining categories are in uniform distribution"
      ],
      "metadata": {
        "id": "y5t0I3mNP4cn"
      }
    },
    {
      "cell_type": "markdown",
      "source": [
        "# Data Visualization with Categorical Features\n",
        "\n"
      ],
      "metadata": {
        "id": "Rj-KbsXiP8mS"
      }
    },
    {
      "cell_type": "code",
      "source": [
        "fig, axis = plt.subplots(nrows=2, ncols=2, figsize=(12, 10))\n",
        "fig.subplots_adjust(top=1.2)\n",
        "\n",
        "sns.boxplot(data=walmart_df, x=\"Occupation\", ax=axis[0,0])\n",
        "sns.boxplot(data=walmart_df, x=\"Stay_In_Current_City_Years\", orient='h', ax=axis[0,1])\n",
        "sns.boxplot(data=walmart_df, x=\"Purchase\", orient='h', ax=axis[1,0])\n",
        "\n",
        "\n",
        "plt.show()\n"
      ],
      "metadata": {
        "id": "13LWjpUlQC1F"
      },
      "execution_count": null,
      "outputs": []
    },
    {
      "cell_type": "markdown",
      "source": [
        "Obervations:\n",
        "\n",
        "Occupation, Stay_In_Current_City_Years are not having outliers.\n",
        "\n",
        "The Customers Purchase attribute has an average of ~9000.\n",
        "\n",
        "The Purchase attribute has few outliers"
      ],
      "metadata": {
        "id": "MjAylOnDQJ7e"
      }
    },
    {
      "cell_type": "markdown",
      "source": [
        "# Purchase & Our Features\n",
        "\n",
        "In this section, we'll explore how different features relate to purchases. We'll use box plots to compare purchases across different categories like gender, age, occupation, city category, stay in current city years, marital status, and product category. This will give us insights into which factors influence purchase amounts the most."
      ],
      "metadata": {
        "id": "-HXlsO23QO2E"
      }
    },
    {
      "cell_type": "code",
      "source": [
        "attrs = ['Gender', 'Age', 'Occupation', 'City_Category', 'Stay_In_Current_City_Years', 'Marital_Status', 'Product_Category']\n",
        "sns.set(color_codes = True)\n",
        "fig, axs = plt.subplots(nrows=3, ncols=2, figsize=(20, 16))\n",
        "fig.subplots_adjust(top=1.3)\n",
        "count = 0\n",
        "for row in range(3):\n",
        "    for col in range(2):\n",
        "        sns.boxplot(data=walmart_df, y='Purchase', x=attrs[count], ax=axs[row, col])\n",
        "        axs[row,col].set_title(f\"Purchase vs {attrs[count]}\", pad=12, fontsize=13)\n",
        "        count += 1\n",
        "plt.show()\n",
        "\n",
        "plt.figure(figsize=(10, 8))\n",
        "sns.boxplot(data=walmart_df, y='Purchase', x=attrs[-1])\n",
        "plt.show()"
      ],
      "metadata": {
        "id": "e5Gg6MmJPwy_"
      },
      "execution_count": null,
      "outputs": []
    },
    {
      "cell_type": "markdown",
      "source": [
        "Observations:\n",
        "\n",
        "Product vs Gender :\n",
        "Uniform distribution but with a little difference.\n",
        "\n",
        "Purchase vs Age :\n",
        "Age and Purchase attributes has a uniform distribution.\n",
        "\n",
        "Purchase vs City_Category :\n",
        "Here we can see that customers from City C were the most frequent shoppers on Black Friday sales but Customers from City B had the highest amount of total purchases as we found that in our Count plot.\n",
        "\n",
        "Purchase vs Marital_Status :\n",
        "At least the variable Marital Status seems to be a viable predictor for men, although the relative difference in amount is small. We came to know that Single Men spend the most during the Black Friday. It also tells that Men tend to spend less once they are married. It maybe because of the added responsibilities.\n",
        "\n",
        "Purchase vs Product_Category :\n",
        "Total of 20 product_categories are there. Product_Category - 1, 5, 8, & 11 have highest purchasing frequency."
      ],
      "metadata": {
        "id": "kYOKgWaeQfLc"
      }
    },
    {
      "cell_type": "code",
      "source": [
        "sns.set(color_codes = True)\n",
        "fig, axs = plt.subplots(nrows=2, ncols=2, figsize=(20, 6))\n",
        "\n",
        "fig.subplots_adjust(top=1.5)\n",
        "sns.boxplot(data=walmart_df, y='Purchase', x='Gender', hue='Age', ax=axs[0,0])\n",
        "sns.boxplot(data=walmart_df, y='Purchase', x='Gender', hue='City_Category', ax=axs[0,1])\n",
        "\n",
        "sns.boxplot(data=walmart_df, y='Purchase', x='Gender', hue='Marital_Status', ax=axs[1,0])\n",
        "sns.boxplot(data=walmart_df, y='Purchase', x='Gender', hue='Stay_In_Current_City_Years', ax=axs[1,1])\n",
        "axs[1,1].legend(loc='upper left')\n",
        "\n",
        "plt.show()"
      ],
      "metadata": {
        "id": "mGn4jgTeQVGs"
      },
      "execution_count": null,
      "outputs": []
    },
    {
      "cell_type": "markdown",
      "source": [
        "Obervations\n",
        "\n",
        "Now, on plotting a Box plot for Gender Vs Purchase, seems like the majority of the population in the ages group 26-35 attended the sale.\n",
        "\n",
        "Most of the transactions were made by men.\n",
        "\n",
        "Age group with most transactions was 26-35.\n",
        "Here we can see that married men buy less and women have roughly the same purchase amount regardless of being married or unmarried. So apparently in this case the bias that married men have to spend more for their spouses is untrue, at least for purchases from this company. Or maybe they can buy less here because they have to spend more money on other things once they are married? We'll never know. At least the variable Marital Status seems to be a viable predictor for men, although the relative difference in amount is small. We can also see something more significant: men spend more than women in total amount!\n",
        "\n",
        "Men and women from City Category C spend more compared to the other categories. Men from that category spend significantly more than women from that category and men in general spend more than women.\n",
        "\n",
        "Stay in the current city is almost uneventful for women. Only when they first arrive will they spend less than in the following years.For men, it's up and down with two years resulting in most spending."
      ],
      "metadata": {
        "id": "mkIcr8OORC1t"
      }
    },
    {
      "cell_type": "markdown",
      "source": [
        "# Data Analysis:\n",
        "\n",
        "We'll investigate whether there is a difference in spending between men and women. By calculating the average spending per transaction for each gender, we can see who tends to spend more and try to understand why.\n",
        "\n",
        "**1. Are women spending more money per transaction than men? Why or Why not?**"
      ],
      "metadata": {
        "id": "jblekbSqRX5X"
      }
    },
    {
      "cell_type": "code",
      "source": [
        "# Average amount spend per customer for Male and Female\n",
        "amt_df = walmart_df.groupby(['User_ID', 'Gender'])[['Purchase']].sum()\n",
        "avg_amt_df = amt_df.reset_index()\n",
        "avg_amt_df"
      ],
      "metadata": {
        "id": "wsPIhoQ-Q8mX"
      },
      "execution_count": null,
      "outputs": []
    },
    {
      "cell_type": "code",
      "source": [
        "# Gender wise value counts in avg_amt_df\n",
        "avg_amt_df['Gender'].value_counts()"
      ],
      "metadata": {
        "id": "mU7ebyudRicZ"
      },
      "execution_count": null,
      "outputs": []
    },
    {
      "cell_type": "code",
      "source": [
        "# histogram of average amount spend for each customer - Male\n",
        "avg_amt_df[avg_amt_df['Gender']=='M']['Purchase'].hist(bins=100)\n",
        "plt.show()"
      ],
      "metadata": {
        "id": "zm2fCO-hRk1Z"
      },
      "execution_count": null,
      "outputs": []
    },
    {
      "cell_type": "code",
      "source": [
        "# histogram of average amount spend for each customer - Female\n",
        "avg_amt_df[avg_amt_df['Gender']=='F']['Purchase'].hist(bins=100)\n",
        "plt.show()"
      ],
      "metadata": {
        "id": "e1eaJfLuRnkV"
      },
      "execution_count": null,
      "outputs": []
    },
    {
      "cell_type": "code",
      "source": [
        "male_avg = avg_amt_df[avg_amt_df['Gender']=='M']['Purchase'].mean()\n",
        "female_avg = avg_amt_df[avg_amt_df['Gender']=='F']['Purchase'].mean()\n",
        "\n",
        "print(\"Average amount spend by Male customers: {:.2f}\".format(male_avg))\n",
        "print(\"Average amount spend by Female customers: {:.2f}\".format(female_avg))"
      ],
      "metadata": {
        "id": "S8Bw1gxaRqcP"
      },
      "execution_count": null,
      "outputs": []
    },
    {
      "cell_type": "markdown",
      "source": [
        "**Observation** :\n",
        "\n",
        "Male customers spend more money than female customers\n",
        "\n",
        "Most of the transactions were made by men.\n",
        "\n",
        "**2. Confidence intervals and distribution of the mean of the expenses by female and male customers** :\n",
        "\n",
        "We will calculate the confidence intervals for the average expenses of male and female customers. This will help us understand the range within which the average spending is likely to fall, giving us a clearer picture of spending habits based on gender."
      ],
      "metadata": {
        "id": "VC0h15H3R0ki"
      }
    },
    {
      "cell_type": "code",
      "source": [
        "male_df = avg_amt_df[avg_amt_df['Gender']=='M']\n",
        "female_df = avg_amt_df[avg_amt_df['Gender']=='F']"
      ],
      "metadata": {
        "id": "EKBfJfhDRwfi"
      },
      "execution_count": null,
      "outputs": []
    },
    {
      "cell_type": "code",
      "source": [
        "genders = [\"M\", \"F\"]\n",
        "\n",
        "male_sample_size = 3000\n",
        "female_sample_size = 1500\n",
        "num_repitions = 1000\n",
        "male_means = []\n",
        "female_means = []\n",
        "\n",
        "for _ in range(num_repitions):\n",
        "    male_mean = male_df.sample(male_sample_size, replace=True)['Purchase'].mean()\n",
        "    female_mean = female_df.sample(female_sample_size, replace=True)['Purchase'].mean()\n",
        "\n",
        "    male_means.append(male_mean)\n",
        "    female_means.append(female_mean)"
      ],
      "metadata": {
        "id": "NTNA5lQ8SC-F"
      },
      "execution_count": null,
      "outputs": []
    },
    {
      "cell_type": "code",
      "source": [
        "fig, axis = plt.subplots(nrows=1, ncols=2, figsize=(20, 6))\n",
        "\n",
        "axis[0].hist(male_means, bins=100)\n",
        "axis[1].hist(female_means, bins=100)\n",
        "axis[0].set_title(\"Male - Distribution of means, Sample size: 9500\")\n",
        "axis[1].set_title(\"Female - Distribution of means, Sample size: 8500\")\n",
        "\n",
        "plt.show()\n",
        "\n",
        "print(\"\\n\")\n",
        "print(\"Population mean - Mean of sample means of amount spend for Male: {:.2f}\".format(np.mean(male_means)))\n",
        "print(\"Population mean - Mean of sample means of amount spend for Female: {:.2f}\".format(np.mean(female_means)))\n",
        "\n",
        "print(\"\\nMale - Sample mean: {:.2f} Sample std: {:.2f}\".format(male_df['Purchase'].mean(), male_df['Purchase'].std()))\n",
        "print(\"Female - Sample mean: {:.2f} Sample std: {:.2f}\".format(female_df['Purchase'].mean(), female_df['Purchase'].std()))"
      ],
      "metadata": {
        "id": "QtzNdX-ASFmK"
      },
      "execution_count": null,
      "outputs": []
    },
    {
      "cell_type": "markdown",
      "source": [
        "**Observations:**\n",
        "\n",
        "Now using the Central Limit Theorem for the population we can say that:\n",
        "\n",
        "Average amount spend by male customers is **9,25,408.28**\n",
        "\n",
        "Average amount spend by female customers is **7,12,217.18**"
      ],
      "metadata": {
        "id": "1j4hk857SNcC"
      }
    },
    {
      "cell_type": "code",
      "source": [
        "male_margin_of_error_clt = 1.64*male_df['Purchase'].std()/np.sqrt(len(male_df))\n",
        "male_sample_mean = male_df['Purchase'].mean()\n",
        "male_lower_lim = male_sample_mean - male_margin_of_error_clt\n",
        "male_upper_lim = male_sample_mean + male_margin_of_error_clt\n",
        "\n",
        "female_margin_of_error_clt = 1.64*female_df['Purchase'].std()/np.sqrt(len(female_df))\n",
        "female_sample_mean = female_df['Purchase'].mean()\n",
        "female_lower_lim = female_sample_mean - female_margin_of_error_clt\n",
        "female_upper_lim = female_sample_mean + female_margin_of_error_clt\n",
        "\n",
        "print(\"Male confidence interval of means: ({:.2f}, {:.2f})\".format(male_lower_lim, male_upper_lim))\n",
        "print(\"Female confidence interval of means: ({:.2f}, {:.2f})\".format(female_lower_lim, female_upper_lim))"
      ],
      "metadata": {
        "id": "sv0VTxjGSJ2O"
      },
      "execution_count": null,
      "outputs": []
    },
    {
      "cell_type": "markdown",
      "source": [
        "Now we can infer about the population that, 90% of the times:\n",
        "\n",
        "Average amount spend by male customer will lie in between: (900471.15, 950217.65)\n",
        "Average amount spend by female customer will lie in between: (679584.51, 744464.28)"
      ],
      "metadata": {
        "id": "xfrvDAFvSbh6"
      }
    },
    {
      "cell_type": "code",
      "source": [
        "male_margin_of_error_clt = 1.96*male_df['Purchase'].std()/np.sqrt(len(male_df))\n",
        "male_sample_mean = male_df['Purchase'].mean()\n",
        "male_lower_lim = male_sample_mean - male_margin_of_error_clt\n",
        "male_upper_lim = male_sample_mean + male_margin_of_error_clt\n",
        "\n",
        "female_margin_of_error_clt = 1.96*female_df['Purchase'].std()/np.sqrt(len(female_df))\n",
        "female_sample_mean = female_df['Purchase'].mean()\n",
        "female_lower_lim = female_sample_mean - female_margin_of_error_clt\n",
        "female_upper_lim = female_sample_mean + female_margin_of_error_clt\n",
        "\n",
        "print(\"Male confidence interval of means: ({:.2f}, {:.2f})\".format(male_lower_lim, male_upper_lim))\n",
        "print(\"Female confidence interval of means: ({:.2f}, {:.2f})\".format(female_lower_lim, female_upper_lim))"
      ],
      "metadata": {
        "id": "bbolDshISYN4"
      },
      "execution_count": null,
      "outputs": []
    },
    {
      "cell_type": "code",
      "source": [
        "male_margin_of_error_clt = 2.58*male_df['Purchase'].std()/np.sqrt(len(male_df))\n",
        "male_sample_mean = male_df['Purchase'].mean()\n",
        "male_lower_lim = male_sample_mean - male_margin_of_error_clt\n",
        "male_upper_lim = male_sample_mean + male_margin_of_error_clt\n",
        "\n",
        "female_margin_of_error_clt = 2.58*female_df['Purchase'].std()/np.sqrt(len(female_df))\n",
        "female_sample_mean = female_df['Purchase'].mean()\n",
        "female_lower_lim = female_sample_mean - female_margin_of_error_clt\n",
        "female_upper_lim = female_sample_mean + female_margin_of_error_clt\n",
        "\n",
        "print(\"Male confidence interval of means: ({:.2f}, {:.2f})\".format(male_lower_lim, male_upper_lim))\n",
        "print(\"Female confidence interval of means: ({:.2f}, {:.2f})\".format(female_lower_lim, female_upper_lim))"
      ],
      "metadata": {
        "id": "CbayYPkcSgty"
      },
      "execution_count": null,
      "outputs": []
    },
    {
      "cell_type": "markdown",
      "source": [
        "Now we can infer about the population that, **99% of the times:**\n",
        "\n",
        "Average amount spend by male customer will lie in between: **(886214.53, 964474.27)**\n",
        "Average amount spend by female customer will lie in between:** (660990.91, 763057.88)**\n",
        "**3. Are confidence intervals of average male and female spending overlapping? **How can Walmart leverage this conclusion to make changes or improvements? **bold text**\n",
        "\n",
        "The confidence intervals of average male and female spendings are not overlapping.\n",
        "\n",
        "Walmart can leverage this problem by taking sample dataset and apply this to whole population dataset by performing Central Limit Theorem and Confidence Intervals of 90%, 95%, or 99% by playing around with the width parameter by reporting those observations to Walmart.\n",
        "\n",
        "**4. Results when the same activity is performed for Married vs Unmarried**\n",
        "\n",
        "We'll compare the spending patterns of married and unmarried customers. This involves looking at average spending and creating confidence intervals for both groups to see if marital status influences shopping behavior."
      ],
      "metadata": {
        "id": "ud8WwhexSsBG"
      }
    },
    {
      "cell_type": "code",
      "source": [
        "amt_df = walmart_df.groupby(['User_ID', 'Marital_Status'])[['Purchase']].sum()\n",
        "avg_amt_df = amt_df.reset_index()\n",
        "avg_amt_df"
      ],
      "metadata": {
        "id": "V8EnfpkISkon"
      },
      "execution_count": null,
      "outputs": []
    },
    {
      "cell_type": "code",
      "source": [
        "avg_amt_df['Marital_Status'].value_counts()"
      ],
      "metadata": {
        "id": "o6o4KOS1TKPw"
      },
      "execution_count": null,
      "outputs": []
    },
    {
      "cell_type": "code",
      "source": [
        "married_samp_size = 3000\n",
        "married_samp_size = 2000\n",
        "num_repitions = 1000\n",
        "married_means = []\n",
        "unmarried_means = []\n",
        "\n",
        "for _ in range(num_repitions):\n",
        "    married_mean = avg_amt_df[avg_amt_df['Marital_Status']==1].sample(married_samp_size, replace=True)['Purchase'].mean()\n",
        "    unmarried_mean = avg_amt_df[avg_amt_df['Marital_Status']==0].sample(married_samp_size, replace=True)['Purchase'].mean()\n",
        "\n",
        "    married_means.append(married_mean)\n",
        "    unmarried_means.append(unmarried_mean)\n",
        "\n",
        "\n",
        "fig, axis = plt.subplots(nrows=1, ncols=2, figsize=(20, 6))\n",
        "\n",
        "axis[0].hist(married_means, bins=100)\n",
        "axis[1].hist(unmarried_means, bins=100)\n",
        "axis[0].set_title(\"Married - Distribution of means, Sample size: 3000\")\n",
        "axis[1].set_title(\"Unmarried - Distribution of means, Sample size: 2000\")\n",
        "\n",
        "plt.show()\n",
        "print(\"\\n\")\n",
        "print(\"Population mean - Mean of sample means of amount spend for Married: {:.2f}\".format(np.mean(married_means)))\n",
        "print(\"Population mean - Mean of sample means of amount spend for Unmarried: {:.2f}\".format(np.mean(unmarried_means)))\n",
        "\n",
        "print(\"\\nMarried - Sample mean: {:.2f} Sample std: {:.2f}\".format(avg_amt_df[avg_amt_df['Marital_Status']==1]['Purchase'].mean(), avg_amt_df[avg_amt_df['Marital_Status']==1]['Purchase'].std()))\n",
        "print(\"Unmarried - Sample mean: {:.2f} Sample std: {:.2f}\".format(avg_amt_df[avg_amt_df['Marital_Status']==0]['Purchase'].mean(), avg_amt_df[avg_amt_df['Marital_Status']==0]['Purchase'].std()))\n"
      ],
      "metadata": {
        "id": "NxpiDpMBTM3Y"
      },
      "execution_count": null,
      "outputs": []
    },
    {
      "cell_type": "code",
      "source": [
        "for val in [\"Married\", \"Unmarried\"]:\n",
        "\n",
        "    new_val = 1 if val == \"Married\" else 0\n",
        "\n",
        "    new_df = avg_amt_df[avg_amt_df['Marital_Status']==new_val]\n",
        "\n",
        "    margin_of_error_clt = 1.64*new_df['Purchase'].std()/np.sqrt(len(new_df))\n",
        "    sample_mean = new_df['Purchase'].mean()\n",
        "    lower_lim = sample_mean - margin_of_error_clt\n",
        "    upper_lim = sample_mean + margin_of_error_clt\n",
        "\n",
        "    print(\"{} confidence interval of means: ({:.2f}, {:.2f})\".format(val, lower_lim, upper_lim))"
      ],
      "metadata": {
        "id": "FyceHv9KTbUv"
      },
      "execution_count": null,
      "outputs": []
    },
    {
      "cell_type": "markdown",
      "source": [
        "Now we can infer about the population that, 95% of the times:\n",
        "\n",
        "Married confidence interval of means: (806668.83, 880384.76)\n",
        "Unmarried confidence interval of means: (848741.18, 912410.38)"
      ],
      "metadata": {
        "id": "mcs4oux0TmKY"
      }
    },
    {
      "cell_type": "code",
      "source": [
        "for val in [\"Married\", \"Unmarried\"]:\n",
        "\n",
        "    new_val = 1 if val == \"Married\" else 0\n",
        "\n",
        "    new_df = avg_amt_df[avg_amt_df['Marital_Status']==new_val]\n",
        "\n",
        "    margin_of_error_clt = 2.58*new_df['Purchase'].std()/np.sqrt(len(new_df))\n",
        "    sample_mean = new_df['Purchase'].mean()\n",
        "    lower_lim = sample_mean - margin_of_error_clt\n",
        "    upper_lim = sample_mean + margin_of_error_clt\n",
        "\n",
        "    print(\"{} confidence interval of means: ({:.2f}, {:.2f})\".format(val, lower_lim, upper_lim))"
      ],
      "metadata": {
        "id": "FnofgnAGTh8u"
      },
      "execution_count": null,
      "outputs": []
    },
    {
      "cell_type": "markdown",
      "source": [
        "5. Results when the same activity is performed for Age\n",
        "\n",
        "We will analyze the spending patterns of customers in different age groups. By calculating confidence intervals for each age group, we can see which age range tends to spend more and how certain age groups differ in their spending habits."
      ],
      "metadata": {
        "id": "B53A8K-eUFRs"
      }
    },
    {
      "cell_type": "code",
      "source": [
        "amt_df = walmart_df.groupby(['User_ID', 'Age'])[['Purchase']].sum()\n",
        "avg_amt_df = amt_df.reset_index()\n",
        "avg_amt_df"
      ],
      "metadata": {
        "id": "sVExew6lTpCS"
      },
      "execution_count": null,
      "outputs": []
    },
    {
      "cell_type": "code",
      "source": [
        "avg_amt_df['Age'].value_counts()"
      ],
      "metadata": {
        "id": "uLRloFroUI7g"
      },
      "execution_count": null,
      "outputs": []
    },
    {
      "cell_type": "code",
      "source": [
        "sample_size = 200\n",
        "num_repitions = 1000\n",
        "\n",
        "all_means = {}\n",
        "\n",
        "age_intervals = ['26-35', '36-45', '18-25', '46-50', '51-55', '55+', '0-17']\n",
        "for age_interval in age_intervals:\n",
        "    all_means[age_interval] = []\n",
        "\n",
        "for age_interval in age_intervals:\n",
        "    for _ in range(num_repitions):\n",
        "        mean = avg_amt_df[avg_amt_df['Age']==age_interval].sample(sample_size, replace=True)['Purchase'].mean()\n",
        "        all_means[age_interval].append(mean)"
      ],
      "metadata": {
        "id": "5BqimHKwUMWT"
      },
      "execution_count": null,
      "outputs": []
    },
    {
      "cell_type": "markdown",
      "source": [
        "Now we can infer about the population that, 90% of the times"
      ],
      "metadata": {
        "id": "xjhWBPF7UYIv"
      }
    },
    {
      "cell_type": "code",
      "source": [
        "for val in ['26-35', '36-45', '18-25', '46-50', '51-55', '55+', '0-17']:\n",
        "\n",
        "    new_df = avg_amt_df[avg_amt_df['Age']==val]\n",
        "\n",
        "    margin_of_error_clt = 1.64*new_df['Purchase'].std()/np.sqrt(len(new_df))\n",
        "    sample_mean = new_df['Purchase'].mean()\n",
        "    lower_lim = sample_mean - margin_of_error_clt\n",
        "    upper_lim = sample_mean + margin_of_error_clt\n",
        "\n",
        "    print(\"For age {}, confidence interval of means: ({:.2f}, {:.2f})\".format(val, lower_lim, upper_lim))"
      ],
      "metadata": {
        "id": "z3LeqwsBUSEi"
      },
      "execution_count": null,
      "outputs": []
    },
    {
      "cell_type": "markdown",
      "source": [
        "Now we can infer about the population that, 95% of the times"
      ],
      "metadata": {
        "id": "UQ4NdTK4UfA3"
      }
    },
    {
      "cell_type": "code",
      "source": [
        "for val in ['26-35', '36-45', '18-25', '46-50', '51-55', '55+', '0-17']:\n",
        "\n",
        "    new_df = avg_amt_df[avg_amt_df['Age']==val]\n",
        "\n",
        "    margin_of_error_clt = 1.96*new_df['Purchase'].std()/np.sqrt(len(new_df))\n",
        "    sample_mean = new_df['Purchase'].mean()\n",
        "    lower_lim = sample_mean - margin_of_error_clt\n",
        "    upper_lim = sample_mean + margin_of_error_clt\n",
        "\n",
        "    print(\"For age {}, confidence interval of means: ({:.2f}, {:.2f})\".format(val, lower_lim, upper_lim))"
      ],
      "metadata": {
        "id": "nHa4lzEmUbpE"
      },
      "execution_count": null,
      "outputs": []
    },
    {
      "cell_type": "markdown",
      "source": [
        "Now we can infer about the population that, 99% of the times"
      ],
      "metadata": {
        "id": "Kp0hJ1xGUovv"
      }
    },
    {
      "cell_type": "code",
      "source": [
        "for val in ['26-35', '36-45', '18-25', '46-50', '51-55', '55+', '0-17']:\n",
        "\n",
        "    new_df = avg_amt_df[avg_amt_df['Age']==val]\n",
        "\n",
        "    margin_of_error_clt = 2.58*new_df['Purchase'].std()/np.sqrt(len(new_df))\n",
        "    sample_mean = new_df['Purchase'].mean()\n",
        "    lower_lim = sample_mean - margin_of_error_clt\n",
        "    upper_lim = sample_mean + margin_of_error_clt\n",
        "\n",
        "    print(\"For age {}, confidence interval of means: ({:.2f}, {:.2f})\".format(val, lower_lim, upper_lim))"
      ],
      "metadata": {
        "id": "NpUpQm5UUlvO"
      },
      "execution_count": null,
      "outputs": []
    },
    {
      "cell_type": "markdown",
      "source": [
        "# Final Insights\n",
        "\n",
        "After analyzing the data, we have gathered key insights about customer spending patterns based on age, gender, marital status, city category, and product categories.\n",
        "\n",
        "**Actionable Insights**\n",
        "\n",
        "For Age feature, we observed that ~ 80% of the customer's who belong to the age group 25-40 (40%: 26-35, 18%: 18-25, 20%: 36-45) tend to spend the most.\n",
        "\n",
        "For Gender feature, ~75% of the number of purchases are made by Male customer's and rest of the 25% is done by female customer's. This tells us the Male consumers are the major contributors to the number of sales for the retail store.On average the male gender spends more money on purchase contrary to female, and it is possible to also observe this trend by adding the total value of purchase.\n",
        "\n",
        "Average amount spend by Male customers: 9,25,408.28\n",
        "Average amount spend by Female customers: 7,12,217.18\n",
        "When we combined Purchase and Marital_Status for analysis (60% are Single, 40% are Married). We came to know that Single Men spend the most during the Black Friday. It also tells that Men tend to spend less once they are married. It maybe because of the added responsibilities.\n",
        "\n",
        "There is an interesting column Stay_In_Current_City_Years, after analyzing this column we came to know the people who have spent 1 year in the city tend to spend the most. This is understandable as, people who have spent more than 4 years in the city are generally well settled and are less interested in buying new things as compared to the people new to the city, who tend to buy more (35% Staying in the city since 1 year, 18% since 2 years, 17% since 3 years).\n",
        "\n",
        "When examining the City_Category which city the product was purchased to our surprise, even though the city B is majorly responsible for the overall sales income, but when it comes to the above product, it majorly purchased in the city C.\n",
        "\n",
        "Total of 20 product_categories are there. Product_Category - 1, 5, 8, & 11 have highest purchasing frequency.\n",
        "\n",
        "There are 20 differnent types of Occupation's in the city\n",
        "\n",
        "# Confidence Intervals\n",
        "\n",
        "Now using the Central Limit Theorem for the population:\n",
        "\n",
        "Average amount spend by male customers is 9,25,408.28\n",
        "Average amount spend by female customers is 7,12,217.18\n",
        "Now we can infer about the population that, 90% of the times:\n",
        "\n",
        "Average amount spend by male customer will lie in between: (900471.15, 950217.65)\n",
        "Average amount spend by female customer will lie in between: (679584.51, 744464.28)\n",
        "Now we can infer about the population that, 95% of the times:\n",
        "\n",
        "Average amount spend by male customer will lie in between: (895617.83, 955070.97)\n",
        "Average amount spend by female customer will lie in between: (673254.77, 750794.02)\n",
        "Now we can infer about the population that, 99% of the times:\n",
        "\n",
        "Average amount spend by male customer will lie in between: (886214.53, 964474.27)\n",
        "Average amount spend by female customer will lie in between: (660990.91, 763057.88)\n",
        "\n",
        "**Confidence Interval by Marital_Status**\n",
        "\n",
        "Now we can infer about the population that, 90% of the times:\n",
        "\n",
        "Married confidence interval of means: (812686.46, 874367.13)\n",
        "Unmarried confidence interval of means: (853938.67, 907212.90)\n",
        "Now we can infer about the population that, 95% of the times:\n",
        "\n",
        "Married confidence interval of means: (806668.83, 880384.76)\n",
        "Unmarried confidence interval of means: (848741.18, 912410.38)\n",
        "Now we can infer about the population that, 99% of the times:\n",
        "\n",
        "Married confidence interval of means: (795009.68, 892043.91)\n",
        "Unmarried confidence interval of means: (838671.05, 922480.51)\n",
        "\n",
        "**Confidence Interval by Age**\n",
        "\n",
        "Now we can infer about the population that, 90% of the times:\n",
        "\n",
        "For age 26-35, confidence interval of means: (952320.12, 1026998.51)\n",
        "For age 36-45, confidence interval of means: (832542.56, 926788.86)\n",
        "For age 18-25, confidence interval of means: (810323.44, 899402.80)\n",
        "For age 46-50, confidence interval of means: (726410.64, 858686.93)\n",
        "For age 51-55, confidence interval of means: (703953.00, 822448.85)\n",
        "For age 55+, confidence interval of means: (487192.99, 592201.50)\n",
        "For age 0-17, confidence interval of means: (542553.13, 695182.50)\n",
        "Now we can infer about the population that, 95% of the times:\n",
        "\n",
        "For age 26-35, confidence interval of means: (945034.42, 1034284.21)\n",
        "For age 36-45, confidence interval of means: (823347.80, 935983.62)\n",
        "For age 18-25, confidence interval of means: (801632.78, 908093.46)\n",
        "For age 46-50, confidence interval of means: (713505.63, 871591.93)\n",
        "For age 51-55, confidence interval of means: (692392.43, 834009.42)\n",
        "For age 55+, confidence interval of means: (476948.26, 602446.23)\n",
        "For age 0-17, confidence interval of means: (527662.46, 710073.17)\n",
        "Now we can infer about the population that, 99% of the times:\n",
        "\n",
        "For age 26-35, confidence interval of means: (930918.39, 1048400.25)\n",
        "For age 36-45, confidence interval of means: (805532.95, 953798.47)\n",
        "For age 18-25, confidence interval of means: (784794.60, 924931.63)\n",
        "For age 46-50, confidence interval of means: (688502.19, 896595.37)\n",
        "For age 51-55, confidence interval of means: (669993.82, 856408.03)\n",
        "For age 55+, confidence interval of means: (457099.09, 622295.40)\n",
        "For age 0-17, confidence interval of means: (498811.78, 738923.84)\n",
        "\n",
        "**Recommendations**\n",
        "\n",
        "Men spent more money than women, So company should focus on retaining the female customers and getting more female customers.\n",
        "\n",
        "Product_Category - 1, 5, 8, & 11 have highest purchasing frequency. it means these are the products in these categories are liked more by customers. Company can focus on selling more of these products or selling more of the products which are purchased less.\n",
        "\n",
        "Unmarried customers spend more money than married customers, So company should focus on acquisition of married customers.\n",
        "\n",
        "Customers in the age 25-40 spend more money than the others, So company should focus on acquisition of customers of other age groups.\n",
        "\n",
        "The tier-2 city called B has the highest number of population, management should open more outlets in the tier-1 and tier-2 cities like A and C in order to increase the buisness."
      ],
      "metadata": {
        "id": "uTKBxNG4U2cQ"
      }
    },
    {
      "cell_type": "code",
      "source": [],
      "metadata": {
        "id": "NQdkWoWyUtjP"
      },
      "execution_count": null,
      "outputs": []
    }
  ]
}